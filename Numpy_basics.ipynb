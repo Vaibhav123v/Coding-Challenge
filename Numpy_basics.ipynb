{
  "cells": [
    {
      "cell_type": "code",
      "source": [
        "# to install numpy\n",
        "!pip install numpy"
      ],
      "metadata": {
        "colab": {
          "base_uri": "https://localhost:8080/"
        },
        "id": "Uyr91LVZSbtN",
        "outputId": "101e0cb1-262d-4375-a431-8f7cbe90adac"
      },
      "execution_count": null,
      "outputs": [
        {
          "output_type": "stream",
          "name": "stdout",
          "text": [
            "Looking in indexes: https://pypi.org/simple, https://us-python.pkg.dev/colab-wheels/public/simple/\n",
            "Requirement already satisfied: numpy in /usr/local/lib/python3.9/dist-packages (1.22.4)\n"
          ]
        }
      ]
    },
    {
      "cell_type": "code",
      "source": [
        "# to import numpy\n",
        "import numpy as np \n",
        "# here np is an alias"
      ],
      "metadata": {
        "id": "E1kP0iFtSbwL"
      },
      "execution_count": 2,
      "outputs": []
    },
    {
      "cell_type": "code",
      "source": [
        "# checking the version\n",
        "np.__version__"
      ],
      "metadata": {
        "id": "J1Wj308kSb2m",
        "colab": {
          "base_uri": "https://localhost:8080/",
          "height": 35
        },
        "outputId": "e1b45d1e-a067-41a8-e7d8-7157ea93d59d"
      },
      "execution_count": 3,
      "outputs": [
        {
          "output_type": "execute_result",
          "data": {
            "text/plain": [
              "'1.22.4'"
            ],
            "application/vnd.google.colaboratory.intrinsic+json": {
              "type": "string"
            }
          },
          "metadata": {},
          "execution_count": 3
        }
      ]
    },
    {
      "cell_type": "code",
      "source": [
        "# creating first array object \n",
        "a = np.array([1,2,3,4,5])\n",
        "print(a)"
      ],
      "metadata": {
        "id": "90Oc1Yb3Sb_c",
        "colab": {
          "base_uri": "https://localhost:8080/"
        },
        "outputId": "a0b387b5-be4e-4a43-fd5e-cb67f6ae7709"
      },
      "execution_count": 4,
      "outputs": [
        {
          "output_type": "stream",
          "name": "stdout",
          "text": [
            "[1 2 3 4 5]\n"
          ]
        }
      ]
    },
    {
      "cell_type": "code",
      "source": [
        "# let us check the type of above \n",
        "print(type(a))"
      ],
      "metadata": {
        "id": "3dE2WKt8ScC0",
        "colab": {
          "base_uri": "https://localhost:8080/"
        },
        "outputId": "80d8c84c-2fa1-4fbc-9b07-43d5ee3abe28"
      },
      "execution_count": 5,
      "outputs": [
        {
          "output_type": "stream",
          "name": "stdout",
          "text": [
            "<class 'numpy.ndarray'>\n"
          ]
        }
      ]
    },
    {
      "cell_type": "code",
      "source": [
        "# It is an object of class numpy.ndarray"
      ],
      "metadata": {
        "id": "ufIZcvZ9ScF4"
      },
      "execution_count": 6,
      "outputs": []
    },
    {
      "cell_type": "code",
      "source": [
        "# similarly we can create two dimensional array object\n",
        "a = np.array([[1,2],[3,4]])\n",
        "print(a)\n",
        "print(type(a))"
      ],
      "metadata": {
        "id": "nszO9X5MScIW",
        "colab": {
          "base_uri": "https://localhost:8080/"
        },
        "outputId": "f0d9a018-0132-4be4-a943-1a9eb45e4f9d"
      },
      "execution_count": 9,
      "outputs": [
        {
          "output_type": "stream",
          "name": "stdout",
          "text": [
            "[[1 2]\n",
            " [3 4]]\n",
            "<class 'numpy.ndarray'>\n"
          ]
        }
      ]
    },
    {
      "cell_type": "code",
      "source": [
        "# we can use ndmin as argument in case of np.array to give the minimum dimension to the object\n",
        "a = np.array([i for i in range(1,11)],ndmin = 2)\n",
        "print(a)\n",
        "# Here above I have used list comprehension "
      ],
      "metadata": {
        "id": "p_DKFaeGScLK",
        "colab": {
          "base_uri": "https://localhost:8080/"
        },
        "outputId": "2623a4a9-ef05-4855-c50f-93d00be536f8"
      },
      "execution_count": 10,
      "outputs": [
        {
          "output_type": "stream",
          "name": "stdout",
          "text": [
            "[[ 1  2  3  4  5  6  7  8  9 10]]\n"
          ]
        }
      ]
    },
    {
      "cell_type": "code",
      "source": [
        "# we can also provide the datatype for the object\n",
        "\n",
        "a = np.array([x for x in range(1,11)],ndmin = 1,dtype  = complex)\n",
        "print(a)"
      ],
      "metadata": {
        "id": "j8CWZewQScNp",
        "colab": {
          "base_uri": "https://localhost:8080/"
        },
        "outputId": "3fa899b1-1bdf-41b8-fb3b-6adec14ece3c"
      },
      "execution_count": 12,
      "outputs": [
        {
          "output_type": "stream",
          "name": "stdout",
          "text": [
            "[ 1.+0.j  2.+0.j  3.+0.j  4.+0.j  5.+0.j  6.+0.j  7.+0.j  8.+0.j  9.+0.j\n",
            " 10.+0.j]\n"
          ]
        }
      ]
    },
    {
      "cell_type": "code",
      "source": [
        "# Datatypes in numpy : We have  a large collection of datatypes in numpy\n",
        "# strings - used to represent text data, the text is given under quote marks. e.g. \"ABCD\"\n",
        "# integer - used to represent integer numbers. e.g. -1, -2, -3\n",
        "# float - used to represent real numbers. e.g. 1.2, 42.42\n",
        "# boolean - used to represent True or False.\n",
        "# complex - used to represent complex numbers. e.g. 1.0 + 2.0j, 1.5 + 2.5j"
      ],
      "metadata": {
        "id": "KYwReNLAScQJ"
      },
      "execution_count": 15,
      "outputs": []
    },
    {
      "cell_type": "code",
      "source": [
        "# A dtype object is constructed using the following syntax: \n",
        "# np.dtype(object,align,copy)"
      ],
      "metadata": {
        "id": "-vVlUABdScSq"
      },
      "execution_count": null,
      "outputs": []
    },
    {
      "cell_type": "code",
      "source": [
        "dt = np.dtype(np.int32)\n",
        "print(dt)\n",
        "# i1 , i2,i3 ,i4 are int8, int16,int\n",
        "32"
      ],
      "metadata": {
        "id": "zWRHwwMXScVv",
        "colab": {
          "base_uri": "https://localhost:8080/"
        },
        "outputId": "f831a4d5-2079-4062-973c-75368f254d83"
      },
      "execution_count": 17,
      "outputs": [
        {
          "output_type": "stream",
          "name": "stdout",
          "text": [
            "int32\n"
          ]
        },
        {
          "output_type": "execute_result",
          "data": {
            "text/plain": [
              "32"
            ]
          },
          "metadata": {},
          "execution_count": 17
        }
      ]
    },
    {
      "cell_type": "code",
      "source": [
        "dt = np.dtype('i4')\n",
        "print(dt)"
      ],
      "metadata": {
        "id": "BYYUKncDScXi",
        "colab": {
          "base_uri": "https://localhost:8080/"
        },
        "outputId": "2ff68320-f2f2-406e-d75f-931fccbab7a6"
      },
      "execution_count": 18,
      "outputs": [
        {
          "output_type": "stream",
          "name": "stdout",
          "text": [
            "int32\n"
          ]
        }
      ]
    },
    {
      "cell_type": "code",
      "source": [
        "# let us see the shape of ndarray"
      ],
      "metadata": {
        "id": "vtFnHFiiSccX"
      },
      "execution_count": 19,
      "outputs": []
    },
    {
      "cell_type": "code",
      "source": [
        "a = np.array([[i for i in range(1,6)],[i for i in range(6,11)]])\n",
        "print(a)\n",
        "print(\"Shape is \",a.shape)\n",
        "# 2 rows 5 cols"
      ],
      "metadata": {
        "id": "yQe92aDTScfM",
        "colab": {
          "base_uri": "https://localhost:8080/"
        },
        "outputId": "d66b5716-4a90-4c5d-d784-56f305cf58db"
      },
      "execution_count": 21,
      "outputs": [
        {
          "output_type": "stream",
          "name": "stdout",
          "text": [
            "[[ 1  2  3  4  5]\n",
            " [ 6  7  8  9 10]]\n",
            "Shape is  (2, 5)\n"
          ]
        }
      ]
    },
    {
      "cell_type": "code",
      "source": [
        "# we can change the shape\n",
        "a.shape = (5,2)\n",
        "print(a)"
      ],
      "metadata": {
        "id": "VqWqunBCSch5",
        "colab": {
          "base_uri": "https://localhost:8080/"
        },
        "outputId": "cb7e4994-c60b-4e07-acc0-50f61c153035"
      },
      "execution_count": 22,
      "outputs": [
        {
          "output_type": "stream",
          "name": "stdout",
          "text": [
            "[[ 1  2]\n",
            " [ 3  4]\n",
            " [ 5  6]\n",
            " [ 7  8]\n",
            " [ 9 10]]\n"
          ]
        }
      ]
    },
    {
      "cell_type": "code",
      "source": [
        "# similarly we have reshape function\n",
        "b = a.reshape(2,5)\n",
        "print(b)"
      ],
      "metadata": {
        "colab": {
          "base_uri": "https://localhost:8080/"
        },
        "id": "bhkwspJ5dahB",
        "outputId": "80d07d22-7f28-4253-d4cf-b2b571ed3295"
      },
      "execution_count": 23,
      "outputs": [
        {
          "output_type": "stream",
          "name": "stdout",
          "text": [
            "[[ 1  2  3  4  5]\n",
            " [ 6  7  8  9 10]]\n"
          ]
        }
      ]
    },
    {
      "cell_type": "code",
      "source": [
        "# to create list in a range \n",
        "a = np.arange(30)\n",
        "print(a)"
      ],
      "metadata": {
        "colab": {
          "base_uri": "https://localhost:8080/"
        },
        "id": "jz0GU-l4dnVr",
        "outputId": "e89b38a5-bb79-4d27-ed33-47397b5ad8a4"
      },
      "execution_count": 24,
      "outputs": [
        {
          "output_type": "stream",
          "name": "stdout",
          "text": [
            "[ 0  1  2  3  4  5  6  7  8  9 10 11 12 13 14 15 16 17 18 19 20 21 22 23\n",
            " 24 25 26 27 28 29]\n"
          ]
        }
      ]
    },
    {
      "cell_type": "code",
      "source": [
        "print(a.ndim)"
      ],
      "metadata": {
        "colab": {
          "base_uri": "https://localhost:8080/"
        },
        "id": "u8h50JTodyfL",
        "outputId": "0b717abf-a724-4970-97f4-a2d3e5470d12"
      },
      "execution_count": 25,
      "outputs": [
        {
          "output_type": "stream",
          "name": "stdout",
          "text": [
            "1\n"
          ]
        }
      ]
    },
    {
      "cell_type": "code",
      "source": [
        "# let us reshape this :\n",
        "b = a.reshape(2,5,3)"
      ],
      "metadata": {
        "id": "HubQ0R6Cd3GB"
      },
      "execution_count": 26,
      "outputs": []
    },
    {
      "cell_type": "code",
      "source": [
        "print(b)"
      ],
      "metadata": {
        "colab": {
          "base_uri": "https://localhost:8080/"
        },
        "id": "UEcROkWyeJLc",
        "outputId": "a89cec49-86cb-4867-f9ca-299cc6cf2c97"
      },
      "execution_count": 27,
      "outputs": [
        {
          "output_type": "stream",
          "name": "stdout",
          "text": [
            "[[[ 0  1  2]\n",
            "  [ 3  4  5]\n",
            "  [ 6  7  8]\n",
            "  [ 9 10 11]\n",
            "  [12 13 14]]\n",
            "\n",
            " [[15 16 17]\n",
            "  [18 19 20]\n",
            "  [21 22 23]\n",
            "  [24 25 26]\n",
            "  [27 28 29]]]\n"
          ]
        }
      ]
    },
    {
      "cell_type": "code",
      "source": [
        "print(b.shape)"
      ],
      "metadata": {
        "colab": {
          "base_uri": "https://localhost:8080/"
        },
        "id": "fvTzf3wYeK1Q",
        "outputId": "fa673bd7-e93c-4462-9ba8-1fe0a561428e"
      },
      "execution_count": 28,
      "outputs": [
        {
          "output_type": "stream",
          "name": "stdout",
          "text": [
            "(2, 5, 3)\n"
          ]
        }
      ]
    },
    {
      "cell_type": "code",
      "source": [
        "# to check item size(in bytes)\n",
        "a = np.array([1,2,3,4],dtype = np.bool)"
      ],
      "metadata": {
        "colab": {
          "base_uri": "https://localhost:8080/"
        },
        "id": "Wvr_8DZQePT4",
        "outputId": "ed9c9d2c-bde5-41a4-db57-b40065bcb04a"
      },
      "execution_count": 29,
      "outputs": [
        {
          "output_type": "stream",
          "name": "stderr",
          "text": [
            "<ipython-input-29-87674af38ec1>:2: DeprecationWarning: `np.bool` is a deprecated alias for the builtin `bool`. To silence this warning, use `bool` by itself. Doing this will not modify any behavior and is safe. If you specifically wanted the numpy scalar type, use `np.bool_` here.\n",
            "Deprecated in NumPy 1.20; for more details and guidance: https://numpy.org/devdocs/release/1.20.0-notes.html#deprecations\n",
            "  a = np.array([1,2,3,4],dtype = np.bool)\n"
          ]
        }
      ]
    },
    {
      "cell_type": "code",
      "source": [
        "print(a.itemsize)"
      ],
      "metadata": {
        "colab": {
          "base_uri": "https://localhost:8080/"
        },
        "id": "MYwmptpYel6T",
        "outputId": "ea65ccbb-c6b7-40ba-dc1e-cddede55e2c7"
      },
      "execution_count": 30,
      "outputs": [
        {
          "output_type": "stream",
          "name": "stdout",
          "text": [
            "1\n"
          ]
        }
      ]
    },
    {
      "cell_type": "code",
      "source": [
        "a = np.array([1,2,3,4],dtype = np.float32)\n",
        "print(a.itemsize)"
      ],
      "metadata": {
        "colab": {
          "base_uri": "https://localhost:8080/"
        },
        "id": "91VLR9UYeoVh",
        "outputId": "309152cf-3441-4f12-d967-4d6fb3f175af"
      },
      "execution_count": 32,
      "outputs": [
        {
          "output_type": "stream",
          "name": "stdout",
          "text": [
            "4\n"
          ]
        }
      ]
    },
    {
      "cell_type": "code",
      "source": [
        "# There are different flags in numpy\n"
      ],
      "metadata": {
        "id": "y_Yn99xSeuIY"
      },
      "execution_count": 33,
      "outputs": []
    },
    {
      "cell_type": "code",
      "source": [
        "x = np.array([i for i in range(1,10)])"
      ],
      "metadata": {
        "id": "7Qv57AVMe-qW"
      },
      "execution_count": 35,
      "outputs": []
    },
    {
      "cell_type": "code",
      "source": [
        "print(x.flags)"
      ],
      "metadata": {
        "colab": {
          "base_uri": "https://localhost:8080/"
        },
        "id": "9rF7HEIRfDJQ",
        "outputId": "4d7b413e-fe1f-4762-9f91-cd417d7a7119"
      },
      "execution_count": 36,
      "outputs": [
        {
          "output_type": "stream",
          "name": "stdout",
          "text": [
            "  C_CONTIGUOUS : True\n",
            "  F_CONTIGUOUS : True\n",
            "  OWNDATA : True\n",
            "  WRITEABLE : True\n",
            "  ALIGNED : True\n",
            "  WRITEBACKIFCOPY : False\n",
            "  UPDATEIFCOPY : False\n",
            "\n"
          ]
        }
      ]
    },
    {
      "cell_type": "code",
      "source": [
        "# let us create an empty array\n",
        "x = np.empty([3,2],dtype = int)\n",
        "print(x)"
      ],
      "metadata": {
        "colab": {
          "base_uri": "https://localhost:8080/"
        },
        "id": "tkhhK99yfGNg",
        "outputId": "ca02d060-8836-4582-a6c6-b3803370288b"
      },
      "execution_count": 38,
      "outputs": [
        {
          "output_type": "stream",
          "name": "stdout",
          "text": [
            "[[49060400        0]\n",
            " [       0        0]\n",
            " [       0        0]]\n"
          ]
        }
      ]
    },
    {
      "cell_type": "code",
      "source": [
        "# let us now create an array with all zeros\n",
        "x = np.zeros(10)\n",
        "print(x)"
      ],
      "metadata": {
        "colab": {
          "base_uri": "https://localhost:8080/"
        },
        "id": "bOt97c9vfeoK",
        "outputId": "eefc0e38-559c-4b58-c003-a55a449abedc"
      },
      "execution_count": 39,
      "outputs": [
        {
          "output_type": "stream",
          "name": "stdout",
          "text": [
            "[0. 0. 0. 0. 0. 0. 0. 0. 0. 0.]\n"
          ]
        }
      ]
    },
    {
      "cell_type": "code",
      "source": [
        "# default dtype =  float\n",
        "# we can change that also\n",
        "x = np.zeros(10,dtype =int)"
      ],
      "metadata": {
        "id": "i-tGbYFnfufK"
      },
      "execution_count": 40,
      "outputs": []
    },
    {
      "cell_type": "code",
      "source": [
        "print(x)"
      ],
      "metadata": {
        "colab": {
          "base_uri": "https://localhost:8080/"
        },
        "id": "G3nAgs8Sf5RB",
        "outputId": "3382667d-4f5a-4138-be04-e5a06b98ff75"
      },
      "execution_count": 41,
      "outputs": [
        {
          "output_type": "stream",
          "name": "stdout",
          "text": [
            "[0 0 0 0 0 0 0 0 0 0]\n"
          ]
        }
      ]
    },
    {
      "cell_type": "code",
      "source": [
        "print(np.zeros((5,5)))"
      ],
      "metadata": {
        "colab": {
          "base_uri": "https://localhost:8080/"
        },
        "id": "1NOZouKtf7Dp",
        "outputId": "179f65de-8136-4970-faa6-1d94a4743782"
      },
      "execution_count": 42,
      "outputs": [
        {
          "output_type": "stream",
          "name": "stdout",
          "text": [
            "[[0. 0. 0. 0. 0.]\n",
            " [0. 0. 0. 0. 0.]\n",
            " [0. 0. 0. 0. 0.]\n",
            " [0. 0. 0. 0. 0.]\n",
            " [0. 0. 0. 0. 0.]]\n"
          ]
        }
      ]
    },
    {
      "cell_type": "code",
      "source": [
        "# similarly we can create ones \n",
        "print(np.ones((2,3)))"
      ],
      "metadata": {
        "colab": {
          "base_uri": "https://localhost:8080/"
        },
        "id": "jAf_DtWQgChy",
        "outputId": "f6f6c675-ada1-4fcf-a664-71d678593cf7"
      },
      "execution_count": 46,
      "outputs": [
        {
          "output_type": "stream",
          "name": "stdout",
          "text": [
            "[[1. 1. 1.]\n",
            " [1. 1. 1.]]\n"
          ]
        }
      ]
    },
    {
      "cell_type": "code",
      "source": [
        "# let us convert list to ndarray\n",
        "var = [i for i in range(1,20)]\n",
        "abc =  np.asarray(var)\n",
        "print(abc)"
      ],
      "metadata": {
        "colab": {
          "base_uri": "https://localhost:8080/"
        },
        "id": "JLVj1E8ngJj6",
        "outputId": "90bb0d42-8908-437f-aab9-3f7fd3513414"
      },
      "execution_count": 47,
      "outputs": [
        {
          "output_type": "stream",
          "name": "stdout",
          "text": [
            "[ 1  2  3  4  5  6  7  8  9 10 11 12 13 14 15 16 17 18 19]\n"
          ]
        }
      ]
    },
    {
      "cell_type": "code",
      "source": [
        "# similarly we can convert tuple in nd array\n",
        "a = (1,2,3,4)\n",
        "b = np.asarray(a)\n",
        "print(b)"
      ],
      "metadata": {
        "colab": {
          "base_uri": "https://localhost:8080/"
        },
        "id": "jdQxyGNzgt1S",
        "outputId": "e0e79985-4681-4f4e-d093-e1723b64aea3"
      },
      "execution_count": 48,
      "outputs": [
        {
          "output_type": "stream",
          "name": "stdout",
          "text": [
            "[1 2 3 4]\n"
          ]
        }
      ]
    },
    {
      "cell_type": "code",
      "source": [
        "# Let us see arange and set start and end parameters\n",
        "x = np.arange(10,20,4)\n",
        "print(x)"
      ],
      "metadata": {
        "colab": {
          "base_uri": "https://localhost:8080/"
        },
        "id": "cWfODi6pg5ep",
        "outputId": "7208ca42-2d97-4f45-ade2-c97963f26d17"
      },
      "execution_count": 54,
      "outputs": [
        {
          "output_type": "stream",
          "name": "stdout",
          "text": [
            "[10 14 18]\n"
          ]
        }
      ]
    },
    {
      "cell_type": "code",
      "source": [
        "print(np.linspace(1,20))"
      ],
      "metadata": {
        "colab": {
          "base_uri": "https://localhost:8080/"
        },
        "id": "jdZDSOgthKzy",
        "outputId": "6641fc4f-fb1f-4f0a-ada1-6daf2927752b"
      },
      "execution_count": 55,
      "outputs": [
        {
          "output_type": "stream",
          "name": "stdout",
          "text": [
            "[ 1.          1.3877551   1.7755102   2.16326531  2.55102041  2.93877551\n",
            "  3.32653061  3.71428571  4.10204082  4.48979592  4.87755102  5.26530612\n",
            "  5.65306122  6.04081633  6.42857143  6.81632653  7.20408163  7.59183673\n",
            "  7.97959184  8.36734694  8.75510204  9.14285714  9.53061224  9.91836735\n",
            " 10.30612245 10.69387755 11.08163265 11.46938776 11.85714286 12.24489796\n",
            " 12.63265306 13.02040816 13.40816327 13.79591837 14.18367347 14.57142857\n",
            " 14.95918367 15.34693878 15.73469388 16.12244898 16.51020408 16.89795918\n",
            " 17.28571429 17.67346939 18.06122449 18.44897959 18.83673469 19.2244898\n",
            " 19.6122449  20.        ]\n"
          ]
        }
      ]
    },
    {
      "cell_type": "code",
      "source": [],
      "metadata": {
        "id": "r5is92lyh666"
      },
      "execution_count": null,
      "outputs": []
    }
  ],
  "metadata": {
    "colab": {
      "provenance": []
    },
    "kernelspec": {
      "display_name": "Python 3",
      "name": "python3"
    },
    "language_info": {
      "name": "python"
    }
  },
  "nbformat": 4,
  "nbformat_minor": 0
}